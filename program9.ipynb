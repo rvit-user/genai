{
 "cells": [
  {
   "cell_type": "code",
   "execution_count": 1,
   "id": "b8133da1",
   "metadata": {},
   "outputs": [
    {
     "name": "stdout",
     "output_type": "stream",
     "text": [
      "Collecting wikipedia-api\n",
      "  Downloading wikipedia_api-0.8.1.tar.gz (19 kB)\n",
      "  Installing build dependencies ... \u001b[?25ldone\n",
      "\u001b[?25h  Getting requirements to build wheel ... \u001b[?25ldone\n",
      "\u001b[?25h  Preparing metadata (pyproject.toml) ... \u001b[?25ldone\n",
      "\u001b[?25hRequirement already satisfied: pydantic in ./.venv/lib/python3.12/site-packages (2.11.4)\n",
      "Requirement already satisfied: requests in ./.venv/lib/python3.12/site-packages (from wikipedia-api) (2.32.3)\n",
      "Requirement already satisfied: annotated-types>=0.6.0 in ./.venv/lib/python3.12/site-packages (from pydantic) (0.7.0)\n",
      "Requirement already satisfied: pydantic-core==2.33.2 in ./.venv/lib/python3.12/site-packages (from pydantic) (2.33.2)\n",
      "Requirement already satisfied: typing-extensions>=4.12.2 in ./.venv/lib/python3.12/site-packages (from pydantic) (4.13.2)\n",
      "Requirement already satisfied: typing-inspection>=0.4.0 in ./.venv/lib/python3.12/site-packages (from pydantic) (0.4.0)\n",
      "Requirement already satisfied: charset-normalizer<4,>=2 in ./.venv/lib/python3.12/site-packages (from requests->wikipedia-api) (3.4.2)\n",
      "Requirement already satisfied: idna<4,>=2.5 in ./.venv/lib/python3.12/site-packages (from requests->wikipedia-api) (3.10)\n",
      "Requirement already satisfied: urllib3<3,>=1.21.1 in ./.venv/lib/python3.12/site-packages (from requests->wikipedia-api) (2.4.0)\n",
      "Requirement already satisfied: certifi>=2017.4.17 in ./.venv/lib/python3.12/site-packages (from requests->wikipedia-api) (2025.4.26)\n",
      "Building wheels for collected packages: wikipedia-api\n",
      "  Building wheel for wikipedia-api (pyproject.toml) ... \u001b[?25ldone\n",
      "\u001b[?25h  Created wheel for wikipedia-api: filename=wikipedia_api-0.8.1-py3-none-any.whl size=15481 sha256=ba31239a9c063426ea8810eae09864fef991756055a64e1390397bdc47be1e1e\n",
      "  Stored in directory: /Users/anshul/Library/Caches/pip/wheels/33/3c/79/b36253689d838af4a0539782853ac3cc38a83a6591ad570dde\n",
      "Successfully built wikipedia-api\n",
      "Installing collected packages: wikipedia-api\n",
      "Successfully installed wikipedia-api-0.8.1\n"
     ]
    }
   ],
   "source": [
    "%pip install wikipedia-api pydantic"
   ]
  },
  {
   "cell_type": "code",
   "execution_count": 3,
   "id": "c54c3eee",
   "metadata": {},
   "outputs": [
    {
     "name": "stdout",
     "output_type": "stream",
     "text": [
      "Page title: Massachusetts Institute of Technology (lang: en, variant: None, id: ??, ns: 0)\n",
      "\n",
      "📄 Institution Details:\n",
      "Founder: N/A\n",
      "Founded: N/A\n",
      "Branches: N/A\n",
      "Employees: N/A\n",
      "Summary: The Massachusetts Institute of Technology (MIT) is a private research university in Cambridge, Massachusetts, United States. Established in 1861, MIT has played a significant role in the development of many areas of modern technology and science.\n",
      "In response to the increasing industrialization of the United States, William Barton Rogers organized a school in Boston to create \"useful knowledge.\" Initially funded by a federal land grant, the institute adopted a polytechnic model that stressed labo\n"
     ]
    }
   ],
   "source": [
    "from pydantic import BaseModel\n",
    "from typing import List, Optional\n",
    "import wikipediaapi\n",
    "\n",
    "class InstitutionDetails(BaseModel):\n",
    "    founder: Optional[str]\n",
    "    founded: Optional[str]\n",
    "    branches: Optional[List[str]]\n",
    "    number_of_employees: Optional[int]\n",
    "    summary: Optional[str]\n",
    "\n",
    "def fetch_institution_details(name: str) -> InstitutionDetails:\n",
    "    wiki_wiki = wikipediaapi.Wikipedia(user_agent=\"Script/1.0 (contact: myemail@example.com)\", language='en')\n",
    "    page = wiki_wiki.page(name)\n",
    "    print(f\"Page title: {page}\")\n",
    "    if not page.exists():\n",
    "        raise ValueError(f\"No page found for '{name}'\")\n",
    "\n",
    "    founder = founded = None\n",
    "    branches = []\n",
    "    summary = page.summary[:500]\n",
    "    num_employees = None\n",
    "\n",
    "    for line in page.text.split('\\n'):\n",
    "        if 'Founder' in line:\n",
    "            founder = line.split(':')[-1].strip()\n",
    "        elif 'Founded' in line:\n",
    "            founded = line.split(':')[-1].strip()\n",
    "        elif 'Branches' in line:\n",
    "            branches = [b.strip() for b in line.split(':')[-1].split(',')]\n",
    "        elif 'Number of employees' in line:\n",
    "            try:\n",
    "                num_employees = int(line.split(':')[-1].strip().replace(',', ''))\n",
    "            except:\n",
    "                pass\n",
    "\n",
    "    return InstitutionDetails(\n",
    "        founder=founder,\n",
    "        founded=founded,\n",
    "        branches=branches or None,\n",
    "        number_of_employees=num_employees,\n",
    "        summary=summary\n",
    "    )\n",
    "\n",
    "def display_details(d: InstitutionDetails):\n",
    "    print(f\"\\n📄 Institution Details:\")\n",
    "    print(f\"Founder: {d.founder or 'N/A'}\")\n",
    "    print(f\"Founded: {d.founded or 'N/A'}\")\n",
    "    print(f\"Branches: {', '.join(d.branches) if d.branches else 'N/A'}\")\n",
    "    print(f\"Employees: {d.number_of_employees or 'N/A'}\")\n",
    "    print(f\"Summary: {d.summary or 'N/A'}\")\n",
    "\n",
    "\n",
    "name = input(\"🏢 Enter institution name: \").strip()\n",
    "if name:\n",
    "    try:\n",
    "        details = fetch_institution_details(name)\n",
    "        display_details(details)\n",
    "    except Exception as e:\n",
    "        print(\"❌ Error:\", e)\n",
    "else:\n",
    "    print(\"⚠️ Please enter a valid institution name.\")"
   ]
  },
  {
   "cell_type": "code",
   "execution_count": null,
   "id": "30cbacff",
   "metadata": {},
   "outputs": [],
   "source": []
  }
 ],
 "metadata": {
  "kernelspec": {
   "display_name": ".venv",
   "language": "python",
   "name": "python3"
  },
  "language_info": {
   "codemirror_mode": {
    "name": "ipython",
    "version": 3
   },
   "file_extension": ".py",
   "mimetype": "text/x-python",
   "name": "python",
   "nbconvert_exporter": "python",
   "pygments_lexer": "ipython3",
   "version": "3.12.4"
  }
 },
 "nbformat": 4,
 "nbformat_minor": 5
}
