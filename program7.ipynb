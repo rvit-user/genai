{
 "cells": [
  {
   "cell_type": "code",
   "execution_count": 1,
   "id": "4fd80d71",
   "metadata": {},
   "outputs": [
    {
     "name": "stdout",
     "output_type": "stream",
     "text": [
      "Requirement already satisfied: transformers in ./.venv/lib/python3.12/site-packages (4.51.3)\n",
      "Requirement already satisfied: filelock in ./.venv/lib/python3.12/site-packages (from transformers) (3.18.0)\n",
      "Requirement already satisfied: huggingface-hub<1.0,>=0.30.0 in ./.venv/lib/python3.12/site-packages (from transformers) (0.31.1)\n",
      "Requirement already satisfied: numpy>=1.17 in ./.venv/lib/python3.12/site-packages (from transformers) (2.2.5)\n",
      "Requirement already satisfied: packaging>=20.0 in ./.venv/lib/python3.12/site-packages (from transformers) (25.0)\n",
      "Requirement already satisfied: pyyaml>=5.1 in ./.venv/lib/python3.12/site-packages (from transformers) (6.0.2)\n",
      "Requirement already satisfied: regex!=2019.12.17 in ./.venv/lib/python3.12/site-packages (from transformers) (2024.11.6)\n",
      "Requirement already satisfied: requests in ./.venv/lib/python3.12/site-packages (from transformers) (2.32.3)\n",
      "Requirement already satisfied: tokenizers<0.22,>=0.21 in ./.venv/lib/python3.12/site-packages (from transformers) (0.21.1)\n",
      "Requirement already satisfied: safetensors>=0.4.3 in ./.venv/lib/python3.12/site-packages (from transformers) (0.5.3)\n",
      "Requirement already satisfied: tqdm>=4.27 in ./.venv/lib/python3.12/site-packages (from transformers) (4.67.1)\n",
      "Requirement already satisfied: fsspec>=2023.5.0 in ./.venv/lib/python3.12/site-packages (from huggingface-hub<1.0,>=0.30.0->transformers) (2025.3.2)\n",
      "Requirement already satisfied: typing-extensions>=3.7.4.3 in ./.venv/lib/python3.12/site-packages (from huggingface-hub<1.0,>=0.30.0->transformers) (4.13.2)\n",
      "Requirement already satisfied: hf-xet<2.0.0,>=1.1.0 in ./.venv/lib/python3.12/site-packages (from huggingface-hub<1.0,>=0.30.0->transformers) (1.1.0)\n",
      "Requirement already satisfied: charset-normalizer<4,>=2 in ./.venv/lib/python3.12/site-packages (from requests->transformers) (3.4.2)\n",
      "Requirement already satisfied: idna<4,>=2.5 in ./.venv/lib/python3.12/site-packages (from requests->transformers) (3.10)\n",
      "Requirement already satisfied: urllib3<3,>=1.21.1 in ./.venv/lib/python3.12/site-packages (from requests->transformers) (2.4.0)\n",
      "Requirement already satisfied: certifi>=2017.4.17 in ./.venv/lib/python3.12/site-packages (from requests->transformers) (2025.4.26)\n"
     ]
    }
   ],
   "source": [
    "!pip install transformers"
   ]
  },
  {
   "cell_type": "code",
   "execution_count": 1,
   "id": "be56a5f7",
   "metadata": {},
   "outputs": [
    {
     "name": "stderr",
     "output_type": "stream",
     "text": [
      "/Users/anshul/Code/GenAI lab internals-2/.venv/lib/python3.12/site-packages/tqdm/auto.py:21: TqdmWarning: IProgress not found. Please update jupyter and ipywidgets. See https://ipywidgets.readthedocs.io/en/stable/user_install.html\n",
      "  from .autonotebook import tqdm as notebook_tqdm\n"
     ]
    },
    {
     "name": "stdout",
     "output_type": "stream",
     "text": [
      "loading summariser model...\n"
     ]
    },
    {
     "name": "stderr",
     "output_type": "stream",
     "text": [
      "Device set to use mps:0\n"
     ]
    },
    {
     "name": "stdout",
     "output_type": "stream",
     "text": [
      "loaded\n",
      "\n",
      "Original Text:\n",
      "\n",
      "Artificial Intelligence (AI) is a rapidly evolving field of computer science focused on creating intelligent machines capable of mimicking human cognitive functions such as learning, problem-solving, and decision-making. In recent years, AI has significantly impacted various industries, including healthcare, finance, education, and entertainment. AI-powered applications, such as chatbots, self-driving cars, and recommendation systems, have transformed the way we interact with technology. Machine learning and deep learning, subsets of AI, enable systems to learn from data and improve over time without explicit programming. However, AI also poses ethical challenges, such as bias in decision-making and concerns over job displacement. As AI technology continues to advance, it is crucial to balance innovation with ethical considerations to ensure its responsible development and deployment.\n",
      "\n",
      "\n",
      "Summarized text:-\n",
      " \n",
      "1. Default Summarization: Artificial Intelligence (AI) is a rapidly evolving field of computer science focused on creating intelligent machines. In recent years, AI has significantly impacted various industries, including healthcare, finance, education, and entertainment. As AI technology continues to advance, it is crucial to balance innovation with ethical considerations.\n",
      "2. High randomness:  Artificial Intelligence (AI) is a rapidly evolving field of computer science focused on creating intelligent machines. In recent years, AI has significantly impacted various industries, including healthcare, finance, education, and entertainment. It is crucial to balance innovation with ethical considerations to ensure its responsible development and deployment.\n",
      "3. Conservative:  Artificial Intelligence (AI) is a rapidly evolving field of computer science focused on creating intelligent machines. In recent years, AI has significantly impacted various industries, including healthcare, finance, education, and entertainment. As AI technology continues to advance, it is crucial to balance innovation with ethical considerations.\n",
      "4. diverse sampling: Artificial Intelligence (AI) is a rapidly evolving field of computer science focused on creating intelligent machines. In recent years, AI has significantly impacted various industries, including healthcare, finance, education, and entertainment. As AI technology continues to advance, it is crucial to balance innovation with ethical considerations.\n"
     ]
    }
   ],
   "source": [
    "from transformers import pipeline\n",
    "print(\"loading summariser model...\")\n",
    "summarizer = pipeline(\"summarization\", model=\"facebook/bart-large-cnn\")\n",
    "print(\"loaded\")\n",
    "def summarize_text(text):\n",
    "    text = \" \".join(text.split())\n",
    "    max_length = 150\n",
    "    min_length = 30\n",
    "\n",
    "    summary_1 = summarizer(text, max_length=max_length, min_length=min_length, do_sample=False)\n",
    "    summary_2 = summarizer(text, max_length=max_length, min_length=min_length, do_sample=True, temperature=0.9)\n",
    "    summary_3 = summarizer(text, max_length=max_length, min_length=min_length, do_sample=False, num_beams=5)\n",
    "    summary_4 = summarizer(text, max_length=max_length, min_length=min_length, do_sample=True, top_k=50, top_p=0.95)\n",
    "\n",
    "    print(\"\\nOriginal Text:\\n\")\n",
    "    print(text)\n",
    "\n",
    "    print(\"\\n\\nSummarized text:-\\n \")\n",
    "    print(\"1. Default Summarization:\", summary_1[0]['summary_text'])\n",
    "    print(\"2. High randomness: \", summary_2[0]['summary_text'])\n",
    "    print(\"3. Conservative: \", summary_3[0]['summary_text'])\n",
    "    print(\"4. diverse sampling:\", summary_4[0]['summary_text'])\n",
    "\n",
    "long_text = \"\"\"Artificial Intelligence (AI) is a rapidly evolving field of computer science focused on\n",
    "creating intelligent machines capable of mimicking human cognitive functions such as learning, problem-solving, and\n",
    "decision-making.\n",
    "In recent years, AI has significantly impacted various industries, including healthcare,\n",
    "finance, education,\n",
    "and entertainment. AI-powered applications, such as chatbots, self-driving cars, and\n",
    "recommendation systems,\n",
    "have transformed the way we interact with technology. Machine learning and deep\n",
    "learning, subsets of AI,\n",
    "enable systems to learn from data and improve over time without explicit programming.\n",
    "However, AI also poses ethical\n",
    "challenges, such as bias in decision-making and concerns over job displacement. As AI\n",
    "technology continues to advance,\n",
    "it is crucial to balance innovation with ethical considerations to ensure its responsible\n",
    "development and deployment.\"\"\"\n",
    "summarize_text(long_text)"
   ]
  }
 ],
 "metadata": {
  "kernelspec": {
   "display_name": ".venv",
   "language": "python",
   "name": "python3"
  },
  "language_info": {
   "codemirror_mode": {
    "name": "ipython",
    "version": 3
   },
   "file_extension": ".py",
   "mimetype": "text/x-python",
   "name": "python",
   "nbconvert_exporter": "python",
   "pygments_lexer": "ipython3",
   "version": "3.12.4"
  }
 },
 "nbformat": 4,
 "nbformat_minor": 5
}
