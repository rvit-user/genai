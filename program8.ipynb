{
 "cells": [
  {
   "cell_type": "code",
   "execution_count": 5,
   "id": "b5c52bf2",
   "metadata": {},
   "outputs": [
    {
     "name": "stdout",
     "output_type": "stream",
     "text": [
      "Requirement already satisfied: langchain in ./.venv/lib/python3.12/site-packages (0.3.25)\n",
      "Requirement already satisfied: cohere in ./.venv/lib/python3.12/site-packages (5.15.0)\n",
      "Requirement already satisfied: langchain-community in ./.venv/lib/python3.12/site-packages (0.3.23)\n",
      "\u001b[31mERROR: Could not find a version that satisfies the requirement google-colab (from versions: none)\u001b[0m\u001b[31m\n",
      "\u001b[0m\u001b[31mERROR: No matching distribution found for google-colab\u001b[0m\u001b[31m\n",
      "\u001b[0m"
     ]
    }
   ],
   "source": [
    "!pip install langchain cohere langchain-community google-colab"
   ]
  },
  {
   "cell_type": "code",
   "execution_count": null,
   "id": "b32edc30",
   "metadata": {},
   "outputs": [],
   "source": [
    "# uOg8fNJyr27I4hfXCxjKGyiD5ZQZWWd8nRhFqbAV\n",
    "import cohere getpass\n",
    "from langchain import PromptTemplate\n",
    "from langchain.llms import Cohere\n",
    "from google.colab import auth\n",
    "from google.colab import drive\n",
    "\n",
    "auth.authenticate_user()\n",
    "drive.mount('/content/drive')\n",
    "\n",
    "file_path = \"/content/drive/MyDrive/sample.txt\"\n",
    "\n",
    "try:\n",
    "    with open(file_path, 'r', encoding='utf-8') as file:\n",
    "        text_content = file.read()\n",
    "    print(\"file loaded successfully\")\n",
    "except Exception as e:\n",
    "    print(f\"Error loading file: {e}\")\n",
    "\n",
    "COHERE_API_KEY = \"uOg8fNJyr27I4hfXCxjKGyiD5ZQZWWd8nRhFqbAV\"\n",
    "cohere_llm = Cohere(cohere_api_key=COHERE_API_KEY, model=\"command\")\n",
    "template = \"\"\"\n",
    "    You are an AI assitant helping to summarize and analyze a text document. The document content is as follows:\n",
    "    {text_content}\n",
    "    Please provide:\n",
    "    1. Summary of the document\n",
    "    2. Three key points\n",
    "    3. Analyze the sentiment of the document\n",
    "\n",
    "\"\"\"\n",
    "\n",
    "prompt_template = PromptTemplate(input_variables=[\"text\"], template=template)\n",
    "formatted_prompt = prompt_template.format(text=text_content)\n",
    "response = cohere_llm.predict(formatted_prompt)\n",
    "print(\"\\n\\n Formatted response: \\n\")\n",
    "print(response)"
   ]
  }
 ],
 "metadata": {
  "kernelspec": {
   "display_name": ".venv",
   "language": "python",
   "name": "python3"
  },
  "language_info": {
   "codemirror_mode": {
    "name": "ipython",
    "version": 3
   },
   "file_extension": ".py",
   "mimetype": "text/x-python",
   "name": "python",
   "nbconvert_exporter": "python",
   "pygments_lexer": "ipython3",
   "version": "3.12.4"
  }
 },
 "nbformat": 4,
 "nbformat_minor": 5
}
